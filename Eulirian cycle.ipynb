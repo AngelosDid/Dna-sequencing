{
 "cells": [
  {
   "cell_type": "code",
   "execution_count": 4,
   "id": "d78ca2dc",
   "metadata": {},
   "outputs": [],
   "source": [
    "def Eulirian_Cycle (adjacency_dic):\n",
    "    \"\"\" Input : Dic with str as keys (a kmers' prefix [kmer[:-1]) and LIST with str as values (same kmers' suffix [kmer[1:]). \n",
    "                The key and its value(s) are adjacent nodes/vertices that together form a kmer. See ouput of DeBruijn().\n",
    "                \n",
    "        Output: list with int or str as elements. Elements in list indicate nodes and must be as many as the input's dict values() \n",
    "                + 1 element that is inserted at the start to indicate a key (start) node in contrast to the rest which are all dict values.\n",
    "                                                                                                                        \"\"\"\n",
    "    import random\n",
    "    from collections import deque\n",
    "    \n",
    "    N_of_nodes   = sum (list(map(lambda x: len(x), adjacency_dic.values())))             # dict values are lists, thus measure the elements inside them (nodes)           \n",
    "    first_key    = random.choice(list(adjacency_dic.keys()))                             # pick random dict key\n",
    "    cycle        = deque([first_key, adjacency_dic[first_key].pop()])                    # first dict value element is accessed via first key, first edge is used.\n",
    "    exit         = 0                                                                     # distance of first exit node after a cycle, from the end of the next cycle \n",
    "    start_key    = cycle[0]                                                              # the only element of cycle that represents key instead of value. Always in start.\n",
    "    \n",
    "    \n",
    "    while len(cycle) != N_of_nodes +1 :                                                  #+1 because Eulirian cycle's length = a start key node in start + dict values' elements \n",
    "        current_node = cycle[-1]                      \n",
    "\n",
    "        if len(adjacency_dic[current_node]) > 1 and exit == 0 :                          # at least two elements in dic value (list) and no exit node found yet. exit == 0 to prevent from changing exit_nodes when new ones are entered\n",
    "            exit_node = cycle[-1]                                                        ## only the first exit node is needed in every new cycle for wayout\n",
    "        \n",
    "        if adjacency_dic[current_node] != [] :                                           # at least one element in dic value(list)\n",
    "            current_node = adjacency_dic[current_node].pop()\n",
    "            cycle.append(current_node)\n",
    "            try:\n",
    "                exit_node\n",
    "                exit +=1                                                                # first exit node's distance from end of cycle increases with new elements\n",
    "            except:                                                                     # without an exit node present, don't measure distance\n",
    "                pass      \n",
    "\n",
    "        else :                                                                          #dead-end, no value left for this node\n",
    "            cycle.remove(start_key)                                                     #remove the start key from cycle. This will also facilitate rotating exit node to the start instead of end of cycle\n",
    "            cycle.rotate(exit)                                                          #move exit node to the start of the cycle and maintain elements' sequence\n",
    "            cycle.append (cycle[0])                                                     #append the exit node at the end of the cycle to complete a cycle and continue from there\n",
    "            start_key = cycle[0]                                                        #save the start key for the next dead-end\n",
    "            exit = 0                                                                    #exit=0 so that we can find the first exit node and save it                                                               \n",
    "            \n",
    "    return cycle \n"
   ]
  },
  {
   "cell_type": "markdown",
   "id": "473d5dcc",
   "metadata": {},
   "source": [
    "## Eulirian Cycle Code Concept"
   ]
  },
  {
   "cell_type": "markdown",
   "id": "d4158eee",
   "metadata": {},
   "source": [
    "In a directed and balanced graph, kmers are the imaginary edges and their prefix & suffix(es) are nodes,\n",
    "submitted in a dict as keys and values, respectively. All edges must be used once.\n",
    "Each time a value of a dict is entered, an edge is used, since the value is called from a the dict's key.\n",
    "As mentioned above, the key along with the value constitutes the kmer, which is an edge.\n",
    "        \n",
    "1) First, select randomly a) a kmer , b) (one of) that kmer's value(s).\n",
    "Append the kmer and its value to a list. \n",
    "From now on, only append chosen values through next steps. Do not append keys.\n",
    "           \n",
    "2) Move to another vertex by using that value as dict key and calling (one of) it value(s). Repeat the process.\n",
    "Save the first dict key with more than one outdegrees (efferent edges) a potential new start node that might be used later on. \n",
    "\n",
    "3) When another vertex is not accessible anymore, that is, the last value used corresponds to a dict key that \n",
    "has been emptied, a cycle has been completed. Check if all values have been appended to the list, that is, check if eulirian cycle has been completed (while condition). \n",
    "           \n",
    "4) If cycle is not complete (not Eulirian), transform the list with the appended values according to this :\n",
    "        \n",
    "    start node,2nd node,3rd node,potential exit node, 5th node,6th node, 7th node\n",
    "                                                   ||\n",
    "                                                   \\/\n",
    "  potential exit node, 5th node,6th node, 7th node, ~~startnode~~ ,2nd node,3rd node,potential exit node.\n",
    "           \n",
    "           This method is valid since incomplete cycles in directed & balanced graphs end up solely at starting points. \n",
    "           Hence, the last node (7th) leads back to the starting node. For this reason, all nodes(vertices) starting from\n",
    "           the potential exit node up to the last node can be inserted at the start of the list. This way, a new cycle is\n",
    "           created, where the potential exit node has now become the new start node AND the last node(so far).\n",
    "           The potential exit node has still unused efferents (outdegrees) and therefore helps to continue searching for \n",
    "           a Eulirian Cycle. \n",
    "           \n",
    "           Be aware of the ~~start node~~. The start node, that is the very first dict value, acts as dict key\n",
    "           and keys shouldn't exist anywhere else except for the start of the cycle. Yet, one more transformation\n",
    "           will PUSH it forward and render it inside the cycle. Hence, the previous start node must NOT be \n",
    "           incorporated in a new cycle during the transformation of the latter. However, a new start node always exists,\n",
    "           since the new transformed cycle will start with a new node which represents a dict key.\n",
    "           "
   ]
  },
  {
   "cell_type": "markdown",
   "id": "8561a20a",
   "metadata": {},
   "source": [
    "Eulirian circle example (https://www.dropbox.com/s/sfiuq8mh93moruw/Eulirian%20cycle%201st%20is%20key%20all%20the%20rest%20values.jpg?dl=0)"
   ]
  },
  {
   "cell_type": "code",
   "execution_count": null,
   "id": "cbb9872d",
   "metadata": {},
   "outputs": [],
   "source": []
  }
 ],
 "metadata": {
  "kernelspec": {
   "display_name": "Python 3",
   "language": "python",
   "name": "python3"
  },
  "language_info": {
   "codemirror_mode": {
    "name": "ipython",
    "version": 3
   },
   "file_extension": ".py",
   "mimetype": "text/x-python",
   "name": "python",
   "nbconvert_exporter": "python",
   "pygments_lexer": "ipython3",
   "version": "3.8.8"
  }
 },
 "nbformat": 4,
 "nbformat_minor": 5
}
