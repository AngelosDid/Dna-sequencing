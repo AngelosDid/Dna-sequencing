{
 "cells": [
  {
   "cell_type": "code",
   "execution_count": null,
   "id": "07aab214",
   "metadata": {},
   "outputs": [],
   "source": [
    "AminoAcidMass = {'G': 57, 'A': 71, 'S': 87, 'P': 97, 'V': 99, 'T': 101, 'C': 103, 'I': 113, 'L': 113, 'N': 114, 'D': 115, 'K': 128, 'Q': 128, 'E': 129, 'M': 131, 'H': 137, 'F': 147, 'R': 156, 'Y': 163, 'W': 186, 'অ': 58, 'আ': 59, 'ই': 60, 'ঈ': 61, 'উ': 62, 'ঊ': 63, 'ঋ': 64, 'ঌ': 65, 'এ': 66, 'ঐ': 67, 'ও': 68, 'ঔ': 69, 'ক': 70, 'খ': 72, 'গ': 73, 'ঘ': 74, 'ঙ': 75, 'চ': 76, 'ছ': 77, 'জ': 78, 'ঝ': 79, 'ঞ': 80, 'ট': 81, 'ঠ': 82, 'ড': 83, 'ঢ': 84, 'ণ': 85, 'ত': 86, 'থ': 88, 'দ': 89, 'ধ': 90, 'ন': 91, 'প': 92, 'ফ': 93, 'ব': 94, 'ভ': 95, 'ম': 96, 'য': 98, 'র': 100, 'ল': 102, 'শ': 104, 'ষ': 105, 'স': 106, 'হ': 107, 'ড়': 108, 'ঢ়': 109, 'য়': 110, 'ৠ': 111, 'ৡ': 112, 'ৰ': 116, 'ৱ': 117, '৳': 118, 'अ': 119, 'आ': 120, 'इ': 121, 'ई': 122, 'उ': 123, 'ऊ': 124, 'ऋ': 125, 'ऌ': 126, 'ऍ': 127, 'ऎ': 130, 'ए': 132, 'ऐ': 133, 'ऑ': 134, 'ऒ': 135, 'ओ': 136, 'औ': 138, 'क': 139, 'ख': 140, 'ग': 141, 'घ': 142, 'ङ': 143, 'च': 144, 'छ': 145, 'ज': 146, 'झ': 148, 'ञ': 149, 'ट': 150, 'ठ': 151, 'ड': 152, 'ढ': 153, 'ण': 154, 'त': 155, 'थ': 157, 'द': 158, 'ध': 159, 'न': 160, 'ऩ': 161, 'प': 162, 'फ': 164, 'ब': 165, 'भ': 166, 'म': 167, 'य': 168, 'र': 169, 'ऱ': 170, 'ल': 171, 'ळ': 172, 'ऴ': 173, 'व': 174, 'श': 175, 'ष': 176, 'स': 177, 'ह': 178, 'क़': 179, 'ख़': 180, 'ग़': 181, 'ज़': 182, 'ड़': 183, 'ढ़': 184, 'फ़': 185, 'य़': 187, 'ॠ': 188, 'ॡ': 189, 'અ': 190, 'આ': 191, 'ઇ': 192, 'ઈ': 193, 'ઉ': 194, 'ઊ': 195, 'ઋ': 196, 'એ': 197, 'ઐ': 198, 'ઓ': 199, 'ઔ': 200}\n",
    "\n",
    "MassAminoAcid = {57: 'G', 71: 'A', 87: 'S', 97: 'P', 99: 'V', 101: 'T', 103: 'C', 113: 'L', 114: 'N', 115: 'D', 128: 'K', 129: 'E', 131: 'M', 137: 'H', 147: 'F', 156: 'R', 163: 'Y', 186: 'W', 58: 'অ', 59: 'আ', 60: 'ই', 61: 'ঈ', 62: 'উ', 63: 'ঊ', 64: 'ঋ', 65: 'ঌ', 66: 'এ', 67: 'ঐ', 68: 'ও', 69: 'ঔ', 70: 'ক', 72: 'খ', 73: 'গ', 74: 'ঘ', 75: 'ঙ', 76: 'চ', 77: 'ছ', 78: 'জ', 79: 'ঝ', 80: 'ঞ', 81: 'ট', 82: 'ঠ', 83: 'ড', 84: 'ঢ', 85: 'ণ', 86: 'ত', 88: 'থ', 89: 'দ', 90: 'ধ', 91: 'ন', 92: 'প', 93: 'ফ', 94: 'ব', 95: 'ভ', 96: 'ম', 98: 'য', 100: 'র', 102: 'ল', 104: 'শ', 105: 'ষ', 106: 'স', 107: 'হ', 108: 'ড়', 109: 'ঢ়', 110: 'য়', 111: 'ৠ', 112: 'ৡ', 116: 'ৰ', 117: 'ৱ', 118: '৳', 119: 'अ', 120: 'आ', 121: 'इ', 122: 'ई', 123: 'उ', 124: 'ऊ', 125: 'ऋ', 126: 'ऌ', 127: 'ऍ', 130: 'ऎ', 132: 'ए', 133: 'ऐ', 134: 'ऑ', 135: 'ऒ', 136: 'ओ', 138: 'औ', 139: 'क', 140: 'ख', 141: 'ग', 142: 'घ', 143: 'ङ', 144: 'च', 145: 'छ', 146: 'ज', 148: 'झ', 149: 'ञ', 150: 'ट', 151: 'ठ', 152: 'ड', 153: 'ढ', 154: 'ण', 155: 'त', 157: 'थ', 158: 'द', 159: 'ध', 160: 'न', 161: 'ऩ', 162: 'प', 164: 'फ', 165: 'ब', 166: 'भ', 167: 'म', 168: 'य', 169: 'र', 170: 'ऱ', 171: 'ल', 172: 'ळ', 173: 'ऴ', 174: 'व', 175: 'श', 176: 'ष', 177: 'स', 178: 'ह', 179: 'क़', 180: 'ख़', 181: 'ग़', 182: 'ज़', 183: 'ड़', 184: 'ढ़', 185: 'फ़', 187: 'य़', 188: 'ॠ', 189: 'ॡ', 190: 'અ', 191: 'આ', 192: 'ઇ', 193: 'ઈ', 194: 'ઉ', 195: 'ઊ', 196: 'ઋ', 197: 'એ', 198: 'ઐ', 199: 'ઓ', 200: 'ઔ'}\n"
   ]
  },
  {
   "cell_type": "code",
   "execution_count": 81,
   "id": "a7559532",
   "metadata": {},
   "outputs": [],
   "source": [
    "def ConvolutionSpectrum (Spect, cut = 0):\n",
    "    \"\"\" Input : List with integers corresponding to an experimental spectrum\n",
    "        Input 2 (optional): int that determines where the reverse sorted dic based on multiplicities is sliced.\n",
    "        Output: Extended list with integers corresponding to remainders between masses of an experimental spectrum\n",
    "                Int appear as many times as their frequency is. List is sorted from smaller to bigger masses.\n",
    "        \n",
    "        The aa_mass, mass_aa and masses variables used for LeaderBoardCycloPeptideSequencing can be narrowed down\n",
    "        to the single aminoacid masses detected in the ConvolutionSpectrum(). However, it is the initial Spectrum and not \n",
    "        the convolution spectrum that must be the input in the LeaderBoardCycloPeptideSequencing. ConvolutionSpectrum\n",
    "        is used merely to find single aa masses already exist or are potentiall missing from the experimental spectrum.\n",
    "        With ConvolutionSpectrum, we might be able to identify peptides with more noisier spectra.\n",
    "        \"\"\"\n",
    "    \n",
    "    import itertools\n",
    "    \n",
    "    convolution_spectrum = []\n",
    "    diconv = {}                                #dic with all remainders and their multiplicities(frequency)\n",
    "    \n",
    "    for mass in Spect[1:]:\n",
    "        for mass1 in Spect:\n",
    "            new_mass = mass - mass1            #reduce each mass from all other masses. if 56<remainder<201 , then add it\n",
    "            if 56<new_mass<201 :               ##57 and 200 are default numbers for aa masses\n",
    "                if new_mass in diconv:\n",
    "                    diconv[new_mass] += 1\n",
    "                else:\n",
    "                    diconv[new_mass] = 1\n",
    "    \n",
    "    diconv = dict(sorted(diconv.items(), key=lambda item: item[1], reverse=True))  #reverse sort dic based on value\n",
    "    \n",
    "    if cut == 0:\n",
    "        for mass, freq in diconv.items():\n",
    "            new_element = freq*[mass]\n",
    "            convolution_spectrum.extend(new_element)\n",
    "        return diconv\n",
    "    \n",
    "    \n",
    "    else:\n",
    "        cut -= 1\n",
    "        ties = 0\n",
    "        min_multiplicity = list(diconv.values())[cut]         #find the multiplicity(frequence) for cut index\n",
    "        for multiplicity in list(diconv.values())[cut:]:\n",
    "            if multiplicity == min_multiplicity:              #extend index as far as this multiplicity is the same\n",
    "                ties += 1                                     ## to include ties  (Nth element + ties)\n",
    "            else:\n",
    "                break\n",
    "    \n",
    "        diconv = dict(itertools.islice(diconv.items(), cut+ties))\n",
    "        \n",
    "        for mass, freq in diconv.items():                    # convert to a list\n",
    "            new_element = freq*[mass]\n",
    "            convolution_spectrum.extend(new_element) \n",
    "\n",
    "        return sorted(convolution_spectrum)\n",
    "    \n",
    "    "
   ]
  },
  {
   "cell_type": "markdown",
   "id": "33f4998e",
   "metadata": {},
   "source": [
    "Narrowing down alphabets based on convolution spectrum with cut at 20'th highest multiplicity + ties"
   ]
  },
  {
   "cell_type": "code",
   "execution_count": null,
   "id": "5c8c3183",
   "metadata": {},
   "outputs": [],
   "source": [
    "conv_spectrum = ConvolutionSpectrum(Spect, 20)"
   ]
  },
  {
   "cell_type": "code",
   "execution_count": null,
   "id": "ef6607bf",
   "metadata": {},
   "outputs": [],
   "source": [
    "aa_mass = {}\n",
    "aa_mass_values = AminoAcidMass.values()\n",
    "\n",
    "for mass in conv_spectrum:\n",
    "    if mass in aa_mass_values:\n",
    "        symbol = MassAminoAcid[mass]\n",
    "        aa_mass[symbol] = mass\n",
    "        \n",
    "mass_aa = {}\n",
    "\n",
    "for aa,mass in aa_mass.items():\n",
    "    mass_aa[mass] = aa\n",
    "\n",
    "masses = []    \n",
    "for mass in conv_spectrum:\n",
    "    if mass not in masses:\n",
    "        masses.append(mass)"
   ]
  }
 ],
 "metadata": {
  "kernelspec": {
   "display_name": "Python 3",
   "language": "python",
   "name": "python3"
  },
  "language_info": {
   "codemirror_mode": {
    "name": "ipython",
    "version": 3
   },
   "file_extension": ".py",
   "mimetype": "text/x-python",
   "name": "python",
   "nbconvert_exporter": "python",
   "pygments_lexer": "ipython3",
   "version": "3.8.8"
  }
 },
 "nbformat": 4,
 "nbformat_minor": 5
}
